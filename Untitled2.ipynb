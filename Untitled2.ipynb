{
 "cells": [
  {
   "cell_type": "code",
   "execution_count": 13,
   "metadata": {},
   "outputs": [
    {
     "name": "stdout",
     "output_type": "stream",
     "text": [
      "create new voice information table: kiana\n",
      "create voice file table: kiana\n"
     ]
    }
   ],
   "source": [
    "import os\n",
    "import sqlite3\n",
    "import sp\n",
    "from pathlib import Path\n",
    "'''\n",
    "conn = sqlite3.connect(\"test.db\")\n",
    "cur = conn.cursor()\n",
    "cur.execute(\"create table test (id integer primary key, ori text unique, path text)\")\n",
    "conn.commit()\n",
    "print('make table.')\n",
    "conn.close()\n",
    "'''\n",
    "\n",
    "def mk_dir_deep(path):\n",
    "    Path(path).mkdir(parents=True, exist_ok=True)\n",
    "    \n",
    "    \n",
    "def create_voice_info_db():\n",
    "    conn = sqlite3.connect(\"voice.db\")\n",
    "    cur = conn.cursor()\n",
    "    cur.execute(\"create table voice_info (v_id text primary key, \\\n",
    "                v_dir text unique, mel_dir text unique, \\\n",
    "                orig_sr integer not null, mel_sr integer not null);\")\n",
    "    conn.commit()\n",
    "    print('make voice db.')\n",
    "    conn.close()\n",
    "    \n",
    "    \n",
    "def create_voice_info_table(v_id, v_dir, mel_dir, orig_sr=44100, mel_sr=8000):\n",
    "    conn = sqlite3.connect(\"voice.db\")\n",
    "    cur = conn.cursor()\n",
    "    if not os.path.exists(v_dir):\n",
    "        mk_dir_deep(v_dir)\n",
    "    if not os.path.exists(mel_dir):\n",
    "        mk_dir_deep(mel_dir)\n",
    "    try:\n",
    "        cur.execute(\"insert into voice_info values (?,?,?,?,?);\", (v_id, v_dir, mel_dir, orig_sr, mel_sr))\n",
    "        cur.execute(\"create table {} (id integer primary key, orig_vf_name text not null);\".format(v_id))\n",
    "        print('create new voice information table: {}\\ncreate voice file table: {}'.format(v_id, v_id))\n",
    "    except Exception as e:\n",
    "        print(e)\n",
    "    finally:\n",
    "        conn.commit()\n",
    "    \n",
    "    \n",
    "    \n",
    "'''\n",
    "conn = sqlite3.connect(\"test.db\")\n",
    "cur = conn.cursor()\n",
    "cur.execute(\"select name from sqlite_master where type='table' order by name;\")\n",
    "tables = cur.fetchall()\n",
    "print(tables)\n",
    "mk_dir_deep(\"mel/kiana/1\")\n",
    "'''\n",
    "\n",
    "'''\n",
    "create_voice_info_db()\n",
    "'''\n",
    "\n",
    "create_voice_info_table('kiana', 'original_mp3/kiana', 'mel/kiana')"
   ]
  },
  {
   "cell_type": "code",
   "execution_count": null,
   "metadata": {},
   "outputs": [],
   "source": []
  }
 ],
 "metadata": {
  "kernelspec": {
   "display_name": "Python 3",
   "language": "python",
   "name": "python3"
  },
  "language_info": {
   "codemirror_mode": {
    "name": "ipython",
    "version": 3
   },
   "file_extension": ".py",
   "mimetype": "text/x-python",
   "name": "python",
   "nbconvert_exporter": "python",
   "pygments_lexer": "ipython3",
   "version": "3.7.7"
  }
 },
 "nbformat": 4,
 "nbformat_minor": 4
}
